{
 "cells": [
  {
   "cell_type": "code",
   "execution_count": 1,
   "metadata": {},
   "outputs": [
    {
     "name": "stderr",
     "output_type": "stream",
     "text": [
      "24/06/22 18:31:49 WARN Utils: Your hostname, Diegos-MacBook-Pro.local resolves to a loopback address: 127.0.0.1; using 192.168.0.107 instead (on interface en0)\n",
      "24/06/22 18:31:49 WARN Utils: Set SPARK_LOCAL_IP if you need to bind to another address\n",
      "Setting default log level to \"WARN\".\n",
      "To adjust logging level use sc.setLogLevel(newLevel). For SparkR, use setLogLevel(newLevel).\n",
      "24/06/22 18:31:50 WARN NativeCodeLoader: Unable to load native-hadoop library for your platform... using builtin-java classes where applicable\n",
      "24/06/22 18:31:51 WARN Utils: Service 'SparkUI' could not bind on port 4040. Attempting port 4041.\n"
     ]
    }
   ],
   "source": [
    "from pyspark.sql import SparkSession\n",
    "spark = SparkSession.builder.getOrCreate()"
   ]
  },
  {
   "cell_type": "code",
   "execution_count": 3,
   "metadata": {},
   "outputs": [
    {
     "name": "stderr",
     "output_type": "stream",
     "text": [
      "                                                                                \r"
     ]
    },
    {
     "data": {
      "text/plain": [
       "DataFrame[]"
      ]
     },
     "execution_count": 3,
     "metadata": {},
     "output_type": "execute_result"
    }
   ],
   "source": [
    "#ele está vinculado a um dataframe comando sparksql herdado da session aberta\n",
    "spark.sql(\"\"\"\n",
    "CREATE TEMPORARY VIEW vw_device\n",
    "USING org.apache.spark.sql.json\n",
    "OPTIONS(path \"/Users/diegomendesbrasil/Library/CloudStorage/OneDrive-Personal/Projetos/DMB Data Analytics/git/dataeng/python-study-projects/Spark/files/device/*.json\")\n",
    "\"\"\")"
   ]
  },
  {
   "cell_type": "code",
   "execution_count": 4,
   "metadata": {},
   "outputs": [
    {
     "data": {
      "text/plain": [
       "DataFrame[]"
      ]
     },
     "execution_count": 4,
     "metadata": {},
     "output_type": "execute_result"
    }
   ],
   "source": [
    "#ele está vinculado a um dataframe comando sparksql herdado da session aberta\n",
    "spark.sql(\"\"\"\n",
    "CREATE TEMPORARY VIEW vw_subscription\n",
    "USING org.apache.spark.sql.json\n",
    "OPTIONS(path \"/Users/diegomendesbrasil/Library/CloudStorage/OneDrive-Personal/Projetos/DMB Data Analytics/git/dataeng/python-study-projects/Spark/files/subscription/*.json\")\n",
    "\"\"\")"
   ]
  },
  {
   "cell_type": "code",
   "execution_count": 5,
   "metadata": {},
   "outputs": [
    {
     "name": "stdout",
     "output_type": "stream",
     "text": [
      "[Table(name='vw_device', catalog=None, namespace=[], description=None, tableType='TEMPORARY', isTemporary=True), Table(name='vw_subscription', catalog=None, namespace=[], description=None, tableType='TEMPORARY', isTemporary=True)]\n"
     ]
    }
   ],
   "source": [
    "print(spark.catalog.listTables())"
   ]
  },
  {
   "cell_type": "code",
   "execution_count": 10,
   "metadata": {},
   "outputs": [
    {
     "name": "stdout",
     "output_type": "stream",
     "text": [
      "+------------+--------------------+----+------------+--------------------+-----------------+--------------------+--------------------+-------+-------+\n",
      "|build_number|dt_current_timestamp|  id|manufacturer|               model|         platform|       serial_number|                 uid|user_id|version|\n",
      "+------------+--------------------+----+------------+--------------------+-----------------+--------------------+--------------------+-------+-------+\n",
      "|         105|       1654631486481|9293|       Apple|     Xiaomi Mi 8 Pro|Windows 10 Mobile|ToFVWLzGTJhQxAaJlDDn|8f7b83dd-89f9-4db...|   5292|    286|\n",
      "|          96|       1654631486481|5402|      Lenovo|   Samsung Galaxy S4|       Android OS|ToFVWLzGTJhQxAaJlDDn|0b41f920-e0ec-4a4...|   7509|    521|\n",
      "|         376|       1654631486481|7319|       Apple|Samsung Galaxy S7...|      Windows 8.1|     SJMZOmtU0csrv4R|0beb9c3a-aa32-46a...|   1704|    386|\n",
      "|         483|       1654631486481|2447|      Huawei|           OnePlus 3|          Android|9vxM9fCsG9nXg8EjT...|6e78c1d0-509e-4ca...|   3427|    692|\n",
      "|         400|       1654631486481|9744|        Dell|     Xiaomi Mi 8 Pro|       Firefox OS|39gPmcOKpwhDezLdi...|188966ee-7528-4ad...|   4960|    724|\n",
      "|         370|       1654631486481| 984|       Apple|  Huawei Mate 10 Pro|Windows 10 Mobile|pEekWH7zGxVITv6NT...|db7a7c16-28b4-442...|   4905|    892|\n",
      "|         226|       1654631486481|5793|        Acer|Samsung Galaxy S6...|    Windows Phone|Pbn8^`LkKPi4QJ79x...|d96466f3-6127-408...|   9616|    866|\n",
      "|         403|       1654631486481|9821|     Xiamomi|        Google Pixel|        Danger OS|9vxM9fCsG9nXg8EjT...|7aff85e3-008c-4a0...|   1650|     75|\n",
      "|         487|       1654631486481|3964|        Dell|   Samsung Galaxy S7|       BlackBerry|Hk4BoF=%ud/PV4K-/...|6f806ad6-ef68-418...|   2080|    125|\n",
      "|         494|       1654631486481|5287|       Apple|       Huawei Mate 9|          Android|ToFVWLzGTJhQxAaJlDDn|d1de234f-d3ac-464...|   2682|    976|\n",
      "+------------+--------------------+----+------------+--------------------+-----------------+--------------------+--------------------+-------+-------+\n",
      "\n"
     ]
    }
   ],
   "source": [
    "spark.sql(\"\"\"SELECT * FROM vw_device LIMIT 10;\"\"\").show()"
   ]
  },
  {
   "cell_type": "code",
   "execution_count": 11,
   "metadata": {},
   "outputs": [
    {
     "name": "stdout",
     "output_type": "stream",
     "text": [
      "+--------------------+----+--------------+------------------+----------+-------+-----------------+--------------------+-------+\n",
      "|dt_current_timestamp|  id|payment_method|      payment_term|      plan| status|subscription_term|                 uid|user_id|\n",
      "+--------------------+----+--------------+------------------+----------+-------+-----------------+--------------------+-------+\n",
      "|       1654631301210|5076|     Apple Pay| Full subscription|    Silver|Pending|          Monthly|0214d50a-91e0-430...|   5763|\n",
      "|       1654631301210|6258|      Bitcoins|Payment in advance| Essential|   Idle|            Daily|8740922c-3d95-497...|   8343|\n",
      "|       1654631301210|  47|   Credit card|            Annual|   Diamond|Pending|      Quinquennal|480b1735-5300-41b...|   4342|\n",
      "|       1654631301210|1553|        Cheque| Full subscription|   Starter| Active|          Biennal|76f9d7aa-2234-488...|    959|\n",
      "|       1654631301210|8601|    WeChat Pay|Payment in advance|      Gold| Active|            Daily|31146e3d-9818-4c9...|   7830|\n",
      "|       1654631301210|1010|        Paypal|Payment in advance|  Platinum|Blocked|            Daily|cc431329-8214-4e1...|   6974|\n",
      "|       1654631301210|4834|        Paypal|Payment in advance|Free Trial|   Idle|            Daily|a2e5a78d-4879-44a...|   3175|\n",
      "|       1654631301210|8317|      Bitcoins| Full subscription|   Premium| Active|         Lifetime|ed98d938-4237-4db...|   4510|\n",
      "|       1654631301210|8206| Visa checkout|            Annual|    Silver| Active|          Monthly|471e4792-67e4-4ef...|   4542|\n",
      "|       1654631301210|2107|          Cash|Payment in advance|      Gold| Active|           Annual|fa50be66-019e-4dd...|   9851|\n",
      "+--------------------+----+--------------+------------------+----------+-------+-----------------+--------------------+-------+\n",
      "\n"
     ]
    }
   ],
   "source": [
    "spark.sql(\"\"\"SELECT * FROM vw_subscription LIMIT 10;\"\"\").show()"
   ]
  },
  {
   "cell_type": "code",
   "execution_count": 24,
   "metadata": {},
   "outputs": [],
   "source": [
    "join_datasets = spark.sql(\"\"\"\n",
    "SELECT \n",
    "    cast(dev.user_id as int) id,\n",
    "    dev.model,\n",
    "    dev.platform,\n",
    "    subs.payment_method,\n",
    "    subs.plan                    \n",
    "FROM\n",
    "    vw_device as dev\n",
    "    inner join vw_subscription as subs\n",
    "    on dev.user_id = subs.user_id;\n",
    "    \"\"\")"
   ]
  },
  {
   "cell_type": "code",
   "execution_count": 25,
   "metadata": {},
   "outputs": [
    {
     "name": "stdout",
     "output_type": "stream",
     "text": [
      "root\n",
      " |-- id: integer (nullable = true)\n",
      " |-- model: string (nullable = true)\n",
      " |-- platform: string (nullable = true)\n",
      " |-- payment_method: string (nullable = true)\n",
      " |-- plan: string (nullable = true)\n",
      "\n"
     ]
    }
   ],
   "source": [
    "join_datasets.printSchema()\n"
   ]
  },
  {
   "cell_type": "code",
   "execution_count": null,
   "metadata": {},
   "outputs": [],
   "source": [
    "/Users/diegomendesbrasil/Library/CloudStorage/OneDrive-Personal/Projetos/DMB Data Analytics/git/dataeng/python-study-projects/Spark/files"
   ]
  }
 ],
 "metadata": {
  "kernelspec": {
   "display_name": "Python 3",
   "language": "python",
   "name": "python3"
  },
  "language_info": {
   "codemirror_mode": {
    "name": "ipython",
    "version": 3
   },
   "file_extension": ".py",
   "mimetype": "text/x-python",
   "name": "python",
   "nbconvert_exporter": "python",
   "pygments_lexer": "ipython3",
   "version": "3.11.7"
  }
 },
 "nbformat": 4,
 "nbformat_minor": 2
}
