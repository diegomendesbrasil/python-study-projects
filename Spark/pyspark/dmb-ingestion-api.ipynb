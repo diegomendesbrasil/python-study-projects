{
 "cells": [
  {
   "cell_type": "markdown",
   "id": "ed4dee62",
   "metadata": {},
   "source": [
    "# API Data Processing with SparkSQL / Processamento de Dados da API com SparkSQL"
   ]
  },
  {
   "cell_type": "markdown",
   "id": "0970bd70",
   "metadata": {},
   "source": [
    "## Initialize Spark Session / Inicializar Sessão Spark"
   ]
  },
  {
   "cell_type": "code",
   "execution_count": null,
   "id": "c25d68c0",
   "metadata": {},
   "outputs": [],
   "source": [
    "from pyspark.sql import SparkSession\n",
    "\n",
    "# Inicialização da sessão Spark\n",
    "spark = SparkSession.builder     .appName(\"API Data Processing\")     .getOrCreate()\n",
    "\n",
    "print(\"Spark Session Initialized\")"
   ]
  },
  {
   "cell_type": "markdown",
   "id": "2ccd09ae",
   "metadata": {},
   "source": [
    "## Fetch Data from API / Buscar Dados da API"
   ]
  },
  {
   "cell_type": "code",
   "execution_count": null,
   "id": "0046c2f7",
   "metadata": {},
   "outputs": [],
   "source": [
    "import requests\n",
    "import pandas as pd\n",
    "\n",
    "# Função para buscar dados da API e converter para Spark DataFrame\n",
    "def fetch_data_from_api(url, spark):\n",
    "    response = requests.get(url)\n",
    "    data = response.json()\n",
    "    pdf = pd.DataFrame(data['response']['docs'])\n",
    "    return spark.createDataFrame(pdf)\n",
    "\n",
    "# URL da API\n",
    "url = \"https://aplicacoes.mds.gov.br/sagi/servicos/misocial/?fl=codigo_ibge%2Canomes_s%20suas_repasse_mun_vl_gestao_suas_f%20suas_repasse_mun_vl_psb_f%20suas_repasse_mun_vl_pse_alta_complexidade_f%20suas_repasse_mun_vl_pse_media_complexidade_f%20suas_repasse_mun_vl_grupo_programas_f%20suas_repasse_mun_vl_sem_classificacao_f%20suas_repasse_mun_vl_fundo_a_fundo_f%20suas_repasse_mun_vl_total_fundo_f%2C%20suas_repasse_mun_vl_gestao_pbf_cadun_f%20suas_repasse_mun_vl_pcf_f%20suas_repasse_mun_vl_gestao_pab_f%20suas_repasse_mun_vl_pse_f%20suas_repasse_mun_dt_atualizacao_s&fq=suas_repasse_mun_dt_atualizacao_s%3A*&q=*%3A*&rows=100000&sort=anomes_s%20desc%2C%20codigo_ibge%20asc&wt=json&fq=anomes:%5B202401%20TO%20202404%5D&omitHeader=true\"\n",
    "\n",
    "# Buscando dados da API\n",
    "df = fetch_data_from_api(url, spark)\n",
    "df.show(5)"
   ]
  },
  {
   "cell_type": "markdown",
   "id": "25a5a6a8",
   "metadata": {},
   "source": [
    "## Generate Fake Data / Gerar Dados Fictícios"
   ]
  },
  {
   "cell_type": "code",
   "execution_count": null,
   "id": "77ba0057",
   "metadata": {},
   "outputs": [],
   "source": [
    "from pyspark.sql.functions import lit\n",
    "from faker import Faker\n",
    "import pandas as pd\n",
    "\n",
    "# Criar dados fictícios com Faker\n",
    "fake = Faker()\n",
    "faker_data = pd.DataFrame({\n",
    "    'codigo_ibge': [row['codigo_ibge'] for row in df.select('codigo_ibge').distinct().collect()],\n",
    "    'nome_municipio': [fake.city() for _ in range(df.select('codigo_ibge').distinct().count())]\n",
    "})\n",
    "\n",
    "# Converter para Spark DataFrame\n",
    "faker_df = spark.createDataFrame(faker_data)\n",
    "faker_df.show(5)"
   ]
  },
  {
   "cell_type": "markdown",
   "id": "915a4487",
   "metadata": {},
   "source": [
    "## Perform Joins / Realizar Joins"
   ]
  },
  {
   "cell_type": "code",
   "execution_count": null,
   "id": "034fe7c2",
   "metadata": {},
   "outputs": [],
   "source": [
    "# Operações de Join\n",
    "df_join = df.join(faker_df, on='codigo_ibge', how='inner')\n",
    "df_left_join = df.join(faker_df, on='codigo_ibge', how='left')\n",
    "df_join.show(5)\n",
    "df_left_join.show(5)"
   ]
  },
  {
   "cell_type": "markdown",
   "id": "b0b001cb",
   "metadata": {},
   "source": [
    "## Filter by Latest Date / Filtrar pela Última Data"
   ]
  },
  {
   "cell_type": "code",
   "execution_count": null,
   "id": "559b3d5c",
   "metadata": {},
   "outputs": [],
   "source": [
    "# Filtrando os registros pela última data\n",
    "from pyspark.sql.functions import max as spark_max\n",
    "\n",
    "max_date = df_left_join.agg(spark_max('suas_repasse_mun_dt_atualizacao_s')).collect()[0][0]\n",
    "df_filtered = df_left_join.filter(df_left_join['suas_repasse_mun_dt_atualizacao_s'] == max_date)\n",
    "df_filtered.show(5)"
   ]
  },
  {
   "cell_type": "markdown",
   "id": "a296237d",
   "metadata": {},
   "source": [
    "## Save to CSV / Salvar em CSV"
   ]
  },
  {
   "cell_type": "code",
   "execution_count": null,
   "id": "269b6211",
   "metadata": {},
   "outputs": [],
   "source": [
    "# Salvando em CSV\n",
    "df_filtered.coalesce(1).write.csv('filtered_data_spark.csv', header=True)"
   ]
  }
 ],
 "metadata": {},
 "nbformat": 4,
 "nbformat_minor": 5
}
