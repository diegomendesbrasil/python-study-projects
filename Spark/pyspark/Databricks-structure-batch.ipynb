{
 "cells": [
  {
   "cell_type": "code",
   "execution_count": 1,
   "metadata": {},
   "outputs": [
    {
     "name": "stdout",
     "output_type": "stream",
     "text": [
      "Requirement already satisfied: pyspark in /Library/Frameworks/Python.framework/Versions/3.12/lib/python3.12/site-packages (3.5.1)\n",
      "Requirement already satisfied: py4j==0.10.9.7 in /Library/Frameworks/Python.framework/Versions/3.12/lib/python3.12/site-packages (from pyspark) (0.10.9.7)\n",
      "\n",
      "\u001b[1m[\u001b[0m\u001b[34;49mnotice\u001b[0m\u001b[1;39;49m]\u001b[0m\u001b[39;49m A new release of pip is available: \u001b[0m\u001b[31;49m23.2.1\u001b[0m\u001b[39;49m -> \u001b[0m\u001b[32;49m24.1\u001b[0m\n",
      "\u001b[1m[\u001b[0m\u001b[34;49mnotice\u001b[0m\u001b[1;39;49m]\u001b[0m\u001b[39;49m To update, run: \u001b[0m\u001b[32;49mpip3.12 install --upgrade pip\u001b[0m\n",
      "Note: you may need to restart the kernel to use updated packages.\n"
     ]
    }
   ],
   "source": [
    "pip install pyspark"
   ]
  },
  {
   "cell_type": "code",
   "execution_count": 1,
   "metadata": {},
   "outputs": [
    {
     "name": "stderr",
     "output_type": "stream",
     "text": [
      "24/06/22 18:02:18 WARN Utils: Your hostname, Diegos-MacBook-Pro.local resolves to a loopback address: 127.0.0.1; using 192.168.0.107 instead (on interface en0)\n",
      "24/06/22 18:02:18 WARN Utils: Set SPARK_LOCAL_IP if you need to bind to another address\n",
      "Setting default log level to \"WARN\".\n",
      "To adjust logging level use sc.setLogLevel(newLevel). For SparkR, use setLogLevel(newLevel).\n",
      "24/06/22 18:02:19 WARN NativeCodeLoader: Unable to load native-hadoop library for your platform... using builtin-java classes where applicable\n",
      "                                                                                \r"
     ]
    },
    {
     "name": "stdout",
     "output_type": "stream",
     "text": [
      "+----------------+--------------------+--------------------+---------------+-------+\n",
      "|            nome|            endereco|               email|data_nascimento|salario|\n",
      "+----------------+--------------------+--------------------+---------------+-------+\n",
      "|    Heidi Tanner|767 Bishop Fort A...|littlehector@exam...|     1978-03-16|  37788|\n",
      "|     Amber Smith|73211 Curtis Moun...|kharrison@example...|     1967-06-19|  48540|\n",
      "|    William Lamb|4022 Collier Flat...|cynthiabrown@exam...|     1970-12-19|  68382|\n",
      "|    Darryl Henry|69327 Gonzalez Wa...|ericburgess@examp...|     1999-01-24|  82790|\n",
      "| Danielle Mullen|7898 Rogers Trail...|brownantonio@exam...|     1962-11-21|  48291|\n",
      "|     Tammy Ramos|8180 Tran Drive\\n...|reeddavid@example...|     1933-11-21|  31914|\n",
      "|Kevin Montgomery|06150 Chapman Lig...|brianfranklin@exa...|     1938-03-31|  74211|\n",
      "|  Dennis Holland|247 Andrews Throu...|  erin52@example.com|     1955-10-04|  98227|\n",
      "| Matthew Shaffer|49776 Mcdaniel Ru...|michaelthompson@e...|     1940-03-27|  45851|\n",
      "|       Eric Shaw|81970 Steven Mano...|   nbass@example.org|     1941-03-06|  76595|\n",
      "|    Alicia Poole|3478 Tina Via Sui...|tinasimmons@examp...|     1961-06-21|  36674|\n",
      "|   Kelly Edwards|2634 Hancock Moun...|amandalee@example...|     1977-02-06|  60894|\n",
      "|   Lisa Reynolds|8931 Medina Locks...|   krush@example.com|     1941-10-08|  92072|\n",
      "|     Chad Cooper|0824 Harrington V...|jasmineburns@exam...|     1964-05-12|  41091|\n",
      "|  Theresa Harris|9820 Ramos Mounta...|riveraeddie@examp...|     1967-02-04|  31881|\n",
      "|   Matthew Fritz|1613 Christy Clif...|wesleygonzales@ex...|     1943-04-24|  82995|\n",
      "|     William Day|28209 Leslie Oval...| cookamy@example.net|     1964-05-07|  93495|\n",
      "|   John Valencia|0700 Duncan Bypas...|michaelburke@exam...|     1952-06-03| 119288|\n",
      "|   Dennis Rogers|8448 Laura Light ...| brian65@example.net|     1986-03-10|  89608|\n",
      "|     Sharon Nash|07534 Cabrera Bro...|kevinburns@exampl...|     1983-03-12|  43544|\n",
      "+----------------+--------------------+--------------------+---------------+-------+\n",
      "only showing top 20 rows\n",
      "\n"
     ]
    }
   ],
   "source": [
    "from pyspark.sql import SparkSession\n",
    "from faker import Faker\n",
    "import pandas as pd\n",
    "\n",
    "# Cria uma sessão do Spark\n",
    "spark = SparkSession.builder \\\n",
    "    .appName(\"Teste Spark com Dados Fictícios\") \\\n",
    "    .getOrCreate()\n",
    "\n",
    "# Inicializa o Faker\n",
    "fake = Faker()\n",
    "\n",
    "# Gera dados fictícios\n",
    "data = []\n",
    "for _ in range(100):  # Gera 100 registros fictícios\n",
    "    data.append({\n",
    "        'nome': fake.name(),\n",
    "        'endereco': fake.address(),\n",
    "        'email': fake.email(),\n",
    "        'data_nascimento': fake.date_of_birth(minimum_age=18, maximum_age=90),\n",
    "        'salario': fake.random_int(min=30000, max=120000)\n",
    "    })\n",
    "\n",
    "# Cria um DataFrame Pandas com os dados fictícios\n",
    "pdf = pd.DataFrame(data)\n",
    "\n",
    "# Converte o DataFrame Pandas para um DataFrame Spark\n",
    "df = spark.createDataFrame(pdf)\n",
    "\n",
    "# Mostra os primeiros registros do DataFrame\n",
    "df.show()\n",
    "\n",
    "# Mostra o esquema do DataFra\n"
   ]
  },
  {
   "cell_type": "code",
   "execution_count": 3,
   "metadata": {},
   "outputs": [],
   "source": [
    "# Função para buscar dados da API\n",
    "def fetch_data_from_api(url):\n",
    "    response = requests.get(url)\n",
    "    data = response.json()\n",
    "    return data['response']['docs']"
   ]
  },
  {
   "cell_type": "code",
   "execution_count": null,
   "metadata": {},
   "outputs": [],
   "source": []
  }
 ],
 "metadata": {
  "kernelspec": {
   "display_name": "Python 3",
   "language": "python",
   "name": "python3"
  },
  "language_info": {
   "codemirror_mode": {
    "name": "ipython",
    "version": 3
   },
   "file_extension": ".py",
   "mimetype": "text/x-python",
   "name": "python",
   "nbconvert_exporter": "python",
   "pygments_lexer": "ipython3",
   "version": "3.11.7"
  }
 },
 "nbformat": 4,
 "nbformat_minor": 2
}
