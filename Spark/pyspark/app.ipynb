{
 "cells": [
  {
   "cell_type": "code",
   "execution_count": 1,
   "metadata": {},
   "outputs": [
    {
     "name": "stderr",
     "output_type": "stream",
     "text": [
      "24/06/22 18:14:46 WARN Utils: Your hostname, Diegos-MacBook-Pro.local resolves to a loopback address: 127.0.0.1; using 192.168.0.107 instead (on interface en0)\n",
      "24/06/22 18:14:46 WARN Utils: Set SPARK_LOCAL_IP if you need to bind to another address\n",
      "Setting default log level to \"WARN\".\n",
      "To adjust logging level use sc.setLogLevel(newLevel). For SparkR, use setLogLevel(newLevel).\n",
      "24/06/22 18:14:47 WARN NativeCodeLoader: Unable to load native-hadoop library for your platform... using builtin-java classes where applicable\n",
      "24/06/22 18:14:48 WARN Utils: Service 'SparkUI' could not bind on port 4040. Attempting port 4041.\n"
     ]
    },
    {
     "name": "stdout",
     "output_type": "stream",
     "text": [
      "<pyspark.sql.session.SparkSession object at 0x107cbd550>\n"
     ]
    }
   ],
   "source": [
    "#imprt libraries e init spark session\n",
    "from pyspark.sql import SparkSession\n",
    "spark = SparkSession.builder.getOrCreate()\n",
    "print(spark)"
   ]
  },
  {
   "cell_type": "code",
   "execution_count": 2,
   "metadata": {},
   "outputs": [
    {
     "name": "stderr",
     "output_type": "stream",
     "text": [
      "                                                                                \r"
     ]
    }
   ],
   "source": [
    "#load data\n",
    "df_device = spark.read.json(\"/Users/diegomendesbrasil/Library/CloudStorage/OneDrive-Personal/Projetos/DMB Data Analytics/git/dataeng/python-study-projects/Spark/files/device/*.json\")"
   ]
  },
  {
   "cell_type": "code",
   "execution_count": 3,
   "metadata": {},
   "outputs": [
    {
     "name": "stdout",
     "output_type": "stream",
     "text": [
      "+------------+--------------------+----+------------+--------------------+------------+--------------------+--------------------+-------+-------+\n",
      "|build_number|dt_current_timestamp|  id|manufacturer|               model|    platform|       serial_number|                 uid|user_id|version|\n",
      "+------------+--------------------+----+------------+--------------------+------------+--------------------+--------------------+-------+-------+\n",
      "|         365|       1654630765114|7938|     Xiamomi|   Samsung Galaxy S9|   Windows 8|Yr9Vt13BlgvXO9zgJ...|aeb52d1e-5a00-412...|   1992|    255|\n",
      "|         340|       1654630765114|8981|      Huawei| Xiaomi Pocophone F1| Windows 8.1|           Kl2ZroV9a|cd4b4510-9cd4-4f2...|   1464|    393|\n",
      "|         230|       1654630765114| 635|      Lenovo|           OnePlus 6|     Android|ToFVWLzGTJhQxAaJlDDn|accee742-a5c9-472...|   6853|    713|\n",
      "|         423|       1654630765114|1320|     OnePlus|           iPhone 4S|       webOS|Yr9Vt13BlgvXO9zgJ...|bac54e13-33c3-412...|   3945|    597|\n",
      "|          18|       1654630765114|3550|      Huawei|Samsung Galaxy S6...|  Android OS|T6UuMUTani3VGY4vXGia|a81af7fc-bb8c-440...|   6740|     63|\n",
      "|         382|       1654630765114|6015|        Acer|   Samsung Galaxy S8|         iOS|     SJMZOmtU0csrv4R|e2a0d19e-1bd4-446...|   1673|    560|\n",
      "|         478|       1654630765114|2357|     Xiamomi|           OnePlus 2|Ubuntu Touch|trDuJXhT8PnD3JEtw...|d93ffc4f-cad6-4b6...|   4148|    276|\n",
      "|          42|       1654630765114|3909|       Apple|   Google Pixel 3 XL|  Firefox OS|Hk4BoF=%ud/PV4K-/...|f5cd04f2-12ae-4bd...|   9157|     89|\n",
      "|         143|       1654630765114|8607|      Lenovo|   iPhone 6 / 6 Plus|         iOS|T6UuMUTani3VGY4vXGia|f3d405c3-eb4e-465...|   4407|     72|\n",
      "|         391|       1654630765114|1752|      Huawei|          OnePlus 3T|  Windows RT|           m6aHiiHOc|177fe51d-91d8-42f...|   2837|    278|\n",
      "|         158|       1654630765114|2962|      Lenovo|           iPhone 5C|  Android OS|9vxM9fCsG9nXg8EjT...|f83ff52b-76d2-445...|    379|    123|\n",
      "|         111|       1654630765114|9021|        Dell|           iPhone 4S|   Danger OS|ToFVWLzGTJhQxAaJlDDn|e39352d3-f2d2-446...|     33|    167|\n",
      "|         399|       1654630765114|4725|      Huawei|              iPhone|     Android|Hk4BoF=%ud/PV4K-/...|80da62c4-e76b-41a...|   2975|    943|\n",
      "|         322|       1654630765114|8833|      Huawei|   Google Pixel 3 XL|   Windows 8|T6UuMUTani3VGY4vXGia|73c52dd3-9cf9-45e...|   8639|    578|\n",
      "|         439|       1654630765114|2864|        Dell|     Xiaomi Mi 8 Pro|   Danger OS|tL&^J@24CVF=zP46L...|a1e90141-2792-45d...|    430|    477|\n",
      "|         409|       1654630765114|4966|      Lenovo|            iPhone X|  Windows RT|     SJMZOmtU0csrv4R|b5d8fc7e-d708-49c...|   3366|    527|\n",
      "|         140|       1654630765114|7688|        Acer|   Samsung Galaxy S7|   Danger OS|xC36G3Xy4n2Fu90ke...|8b7bec32-185e-47a...|    386|    280|\n",
      "|         432|       1654630765114|9392|        ASUS|           OnePlus 2|Ubuntu Touch|_usDGH^%'4dSYvUtH...|b1cf29b5-fcb4-445...|   4637|     49|\n",
      "|         322|       1654630765114|4686|          HP|   Samsung Galaxy S9|  BlackBerry|           Kl2ZroV9a|989c2a94-404a-4ed...|   3927|    934|\n",
      "|         339|       1654630765114|8396|          HP|   iPhone 6 / 6 Plus|     Android|UVr864F8zUbyYOAUd...|dce3660c-f987-448...|   3710|    491|\n",
      "+------------+--------------------+----+------------+--------------------+------------+--------------------+--------------------+-------+-------+\n",
      "only showing top 20 rows\n",
      "\n"
     ]
    }
   ],
   "source": [
    "#print df\n",
    "df_device.show()\n"
   ]
  },
  {
   "cell_type": "code",
   "execution_count": 4,
   "metadata": {},
   "outputs": [
    {
     "name": "stdout",
     "output_type": "stream",
     "text": [
      "root\n",
      " |-- build_number: long (nullable = true)\n",
      " |-- dt_current_timestamp: long (nullable = true)\n",
      " |-- id: long (nullable = true)\n",
      " |-- manufacturer: string (nullable = true)\n",
      " |-- model: string (nullable = true)\n",
      " |-- platform: string (nullable = true)\n",
      " |-- serial_number: string (nullable = true)\n",
      " |-- uid: string (nullable = true)\n",
      " |-- user_id: long (nullable = true)\n",
      " |-- version: long (nullable = true)\n",
      "\n"
     ]
    }
   ],
   "source": [
    "#print schema\n",
    "df_device.printSchema()\n"
   ]
  },
  {
   "cell_type": "code",
   "execution_count": 6,
   "metadata": {},
   "outputs": [
    {
     "data": {
      "text/plain": [
       "['build_number',\n",
       " 'dt_current_timestamp',\n",
       " 'id',\n",
       " 'manufacturer',\n",
       " 'model',\n",
       " 'platform',\n",
       " 'serial_number',\n",
       " 'uid',\n",
       " 'user_id',\n",
       " 'version']"
      ]
     },
     "execution_count": 6,
     "metadata": {},
     "output_type": "execute_result"
    }
   ],
   "source": [
    "#print columns\n",
    "df_device.columns\n"
   ]
  },
  {
   "cell_type": "code",
   "execution_count": 14,
   "metadata": {},
   "outputs": [
    {
     "name": "stdout",
     "output_type": "stream",
     "text": [
      "+------------+--------------------+------------+\n",
      "|manufacturer|               model|    platform|\n",
      "+------------+--------------------+------------+\n",
      "|     Xiamomi|   Samsung Galaxy S9|   Windows 8|\n",
      "|      Huawei| Xiaomi Pocophone F1| Windows 8.1|\n",
      "|      Lenovo|           OnePlus 6|     Android|\n",
      "|     OnePlus|           iPhone 4S|       webOS|\n",
      "|      Huawei|Samsung Galaxy S6...|  Android OS|\n",
      "|        Acer|   Samsung Galaxy S8|         iOS|\n",
      "|     Xiamomi|           OnePlus 2|Ubuntu Touch|\n",
      "|       Apple|   Google Pixel 3 XL|  Firefox OS|\n",
      "|      Lenovo|   iPhone 6 / 6 Plus|         iOS|\n",
      "|      Huawei|          OnePlus 3T|  Windows RT|\n",
      "|      Lenovo|           iPhone 5C|  Android OS|\n",
      "|        Dell|           iPhone 4S|   Danger OS|\n",
      "|      Huawei|              iPhone|     Android|\n",
      "|      Huawei|   Google Pixel 3 XL|   Windows 8|\n",
      "|        Dell|     Xiaomi Mi 8 Pro|   Danger OS|\n",
      "|      Lenovo|            iPhone X|  Windows RT|\n",
      "|        Acer|   Samsung Galaxy S7|   Danger OS|\n",
      "|        ASUS|           OnePlus 2|Ubuntu Touch|\n",
      "|          HP|   Samsung Galaxy S9|  BlackBerry|\n",
      "|          HP|   iPhone 6 / 6 Plus|     Android|\n",
      "+------------+--------------------+------------+\n",
      "only showing top 20 rows\n",
      "\n"
     ]
    }
   ],
   "source": [
    "df_device.select(\"manufacturer\",\"model\",\"platform\").show()"
   ]
  },
  {
   "cell_type": "code",
   "execution_count": 16,
   "metadata": {},
   "outputs": [
    {
     "name": "stdout",
     "output_type": "stream",
     "text": [
      "+------------+--------------------+------------+\n",
      "|manufacturer|               model|        type|\n",
      "+------------+--------------------+------------+\n",
      "|     Xiamomi|   Samsung Galaxy S9|   Windows 8|\n",
      "|      Huawei| Xiaomi Pocophone F1| Windows 8.1|\n",
      "|      Lenovo|           OnePlus 6|     Android|\n",
      "|     OnePlus|           iPhone 4S|       webOS|\n",
      "|      Huawei|Samsung Galaxy S6...|  Android OS|\n",
      "|        Acer|   Samsung Galaxy S8|         iOS|\n",
      "|     Xiamomi|           OnePlus 2|Ubuntu Touch|\n",
      "|       Apple|   Google Pixel 3 XL|  Firefox OS|\n",
      "|      Lenovo|   iPhone 6 / 6 Plus|         iOS|\n",
      "|      Huawei|          OnePlus 3T|  Windows RT|\n",
      "|      Lenovo|           iPhone 5C|  Android OS|\n",
      "|        Dell|           iPhone 4S|   Danger OS|\n",
      "|      Huawei|              iPhone|     Android|\n",
      "|      Huawei|   Google Pixel 3 XL|   Windows 8|\n",
      "|        Dell|     Xiaomi Mi 8 Pro|   Danger OS|\n",
      "|      Lenovo|            iPhone X|  Windows RT|\n",
      "|        Acer|   Samsung Galaxy S7|   Danger OS|\n",
      "|        ASUS|           OnePlus 2|Ubuntu Touch|\n",
      "|          HP|   Samsung Galaxy S9|  BlackBerry|\n",
      "|          HP|   iPhone 6 / 6 Plus|     Android|\n",
      "+------------+--------------------+------------+\n",
      "only showing top 20 rows\n",
      "\n"
     ]
    }
   ],
   "source": [
    "#posso fazer uma expressao sql para alterar a coluna\n",
    "df_device.selectExpr(\"manufacturer\",\"model\",\"platform as type\").show()"
   ]
  },
  {
   "cell_type": "code",
   "execution_count": 21,
   "metadata": {},
   "outputs": [
    {
     "name": "stdout",
     "output_type": "stream",
     "text": [
      "+------------+--------------------+---+------------+-----+--------+-------------+---+-------+-------+\n",
      "|build_number|dt_current_timestamp| id|manufacturer|model|platform|serial_number|uid|user_id|version|\n",
      "+------------+--------------------+---+------------+-----+--------+-------------+---+-------+-------+\n",
      "+------------+--------------------+---+------------+-----+--------+-------------+---+-------+-------+\n",
      "\n"
     ]
    }
   ],
   "source": [
    "#filtro\n",
    "df_device.filter(df_device.manufacturer == \"Xiaomi\").show()"
   ]
  },
  {
   "cell_type": "code",
   "execution_count": 30,
   "metadata": {},
   "outputs": [],
   "source": [
    "#agrupar e usar o lase valuation para mostrar o dado\n",
    "df_grouped_manufacturer= df_device.groupBy(\"manufacturer\").count()"
   ]
  },
  {
   "cell_type": "code",
   "execution_count": 31,
   "metadata": {},
   "outputs": [
    {
     "name": "stdout",
     "output_type": "stream",
     "text": [
      "+------------+-----+\n",
      "|manufacturer|count|\n",
      "+------------+-----+\n",
      "|      Huawei|   12|\n",
      "|          HP|   16|\n",
      "|        Dell|   17|\n",
      "|        Acer|   12|\n",
      "|      Lenovo|    9|\n",
      "|     Xiamomi|    7|\n",
      "|     OnePlus|   12|\n",
      "|        ASUS|    7|\n",
      "|       Apple|    8|\n",
      "+------------+-----+\n",
      "\n"
     ]
    }
   ],
   "source": [
    "df_grouped_manufacturer.show()"
   ]
  },
  {
   "cell_type": "markdown",
   "metadata": {},
   "source": [
    "Ao processar é importante usar o spark submit, entender um pouco mais o motivo mas em resumo é \n",
    "a maneira como rodamos no cluster de computacao\n"
   ]
  },
  {
   "cell_type": "code",
   "execution_count": null,
   "metadata": {},
   "outputs": [],
   "source": []
  }
 ],
 "metadata": {
  "kernelspec": {
   "display_name": "Python 3",
   "language": "python",
   "name": "python3"
  },
  "language_info": {
   "codemirror_mode": {
    "name": "ipython",
    "version": 3
   },
   "file_extension": ".py",
   "mimetype": "text/x-python",
   "name": "python",
   "nbconvert_exporter": "python",
   "pygments_lexer": "ipython3",
   "version": "3.11.7"
  }
 },
 "nbformat": 4,
 "nbformat_minor": 2
}
